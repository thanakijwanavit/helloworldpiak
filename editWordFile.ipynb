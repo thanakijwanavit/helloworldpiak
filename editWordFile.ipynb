{
 "cells": [
  {
   "cell_type": "code",
   "execution_count": 198,
   "metadata": {},
   "outputs": [],
   "source": [
    "#!/usr/bin/env python3\n",
    "import docx,requests"
   ]
  },
  {
   "cell_type": "code",
   "execution_count": 199,
   "metadata": {},
   "outputs": [],
   "source": [
    "#use data from google sheet to push into word file\n",
    "def changetext(textToChange,row):\n",
    "    for i in range(0,len(word.paragraphs)):\n",
    "        word.paragraphs[i].text=word.paragraphs[i].text.replace(textToChange,s[row][1])\n",
    "        #word.paragraphs[i].text=word.paragraphs[i].text.replace('----- executive summary----variable----',s[1][1])"
   ]
  },
  {
   "cell_type": "code",
   "execution_count": 200,
   "metadata": {},
   "outputs": [],
   "source": [
    "#load word file\n",
    "word=docx.Document(\"fan performance report 18_ deckerform.docx\")"
   ]
  },
  {
   "cell_type": "code",
   "execution_count": 201,
   "metadata": {},
   "outputs": [
    {
     "name": "stdout",
     "output_type": "stream",
     "text": [
      "[['Creator', 'piak', '--the file owner is--'], ['summary', 'i have a black nipple', '----- executive summary----variable----'], ['file name', 'this is a file name', 'sadff'], ['address', '10 rama 2', '---address--']]\n"
     ]
    }
   ],
   "source": [
    "#get data from google sheets\n",
    "r = requests.get('https://docs.google.com/spreadsheets/d/e/2PACX-1vRKEwATIcdsaBDoPYB9P2_td7pKShuZXq767oCbNuyh2P4_h6z02tiVz3469HX8Hm5c1RkjUSDZgP8P/pub?gid=1126628758&single=true&output=csv').text.replace('\\r','').split('\\n')\n",
    "s = []\n",
    "for i in range(0,len(r)):\n",
    "    s.append(r[i].split(','))\n",
    "    \n",
    "print (s)"
   ]
  },
  {
   "cell_type": "code",
   "execution_count": 202,
   "metadata": {},
   "outputs": [],
   "source": [
    "for i in range(0,len(s)):\n",
    "    changetext(s[i][2],i)"
   ]
  },
  {
   "cell_type": "code",
   "execution_count": 203,
   "metadata": {},
   "outputs": [],
   "source": [
    "#save file to the specified name\n",
    "word.save('test2.docx')"
   ]
  },
  {
   "cell_type": "code",
   "execution_count": 204,
   "metadata": {},
   "outputs": [
    {
     "name": "stdout",
     "output_type": "stream",
     "text": [
      "the response was updated at --the file owner is-- with the value piak\n",
      "the response was updated at ----- executive summary----variable---- with the value i have a black nipple\n",
      "the response was updated at sadff with the value this is a file name\n",
      "the response was updated at ---address-- with the value 10 rama 2\n"
     ]
    }
   ],
   "source": [
    "for i in range(0,len(s)):\n",
    "    print('the response was updated at %s with the value %s' % (s[i][2],s[i][1]))"
   ]
  },
  {
   "cell_type": "markdown",
   "metadata": {},
   "source": []
  },
  {
   "cell_type": "code",
   "execution_count": null,
   "metadata": {},
   "outputs": [],
   "source": []
  },
  {
   "cell_type": "code",
   "execution_count": null,
   "metadata": {},
   "outputs": [],
   "source": []
  }
 ],
 "metadata": {
  "kernelspec": {
   "display_name": "Python 3",
   "language": "python",
   "name": "python3"
  },
  "language_info": {
   "codemirror_mode": {
    "name": "ipython",
    "version": 3
   },
   "file_extension": ".py",
   "mimetype": "text/x-python",
   "name": "python",
   "nbconvert_exporter": "python",
   "pygments_lexer": "ipython3",
   "version": "3.6.1"
  }
 },
 "nbformat": 4,
 "nbformat_minor": 2
}
